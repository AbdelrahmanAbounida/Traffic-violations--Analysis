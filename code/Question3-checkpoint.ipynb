{
 "cells": [
  {
   "cell_type": "markdown",
   "id": "b9f109cc",
   "metadata": {},
   "source": [
    "# Question 3"
   ]
  },
  {
   "cell_type": "markdown",
   "id": "4666bc4f",
   "metadata": {},
   "source": [
    "##  Data Analysis and Visualization "
   ]
  },
  {
   "cell_type": "code",
   "execution_count": 17,
   "id": "31840504",
   "metadata": {},
   "outputs": [],
   "source": [
    "# 1- importing the required libraries \n",
    "import numpy as np # may be required if we have to deal or initiate a specific libraries \n",
    "import pandas as pd # for initializaing and dealing with the data recordings\n",
    "import matplotlib.pyplot as plt # will be required for general plot\n",
    "import seaborn as sns ## will be required for countplot\n"
   ]
  },
  {
   "cell_type": "code",
   "execution_count": 18,
   "id": "d691ffd5",
   "metadata": {},
   "outputs": [],
   "source": [
    "# I have seperated the 2 questions but I will copy and paste the preparation process that has been done in the \n",
    "# last question here"
   ]
  },
  {
   "cell_type": "code",
   "execution_count": 19,
   "id": "6b3de056",
   "metadata": {},
   "outputs": [],
   "source": [
    "########################################### Data Preparation ################################################"
   ]
  },
  {
   "cell_type": "code",
   "execution_count": 20,
   "id": "1d8e47fe",
   "metadata": {},
   "outputs": [],
   "source": [
    "df = pd.read_csv('data/traffic_violaions.csv')\n",
    "df = df.drop(['country_name'], axis=1) # remove country_name coulmn\n",
    "df = df.drop(df.index[[-1,]]) # remove the last raw\n",
    "df.drop(columns = ['search_type','driver_age_raw','violation_raw'],inplace=True) # remove search_type & driver_age_raw & violation_raw columns"
   ]
  },
  {
   "cell_type": "code",
   "execution_count": 21,
   "id": "cd78db14",
   "metadata": {},
   "outputs": [],
   "source": [
    "mean_value=df['driver_age'].mean()\n",
    "df['driver_age'].fillna(value=mean_value, inplace=True) # estimate the null values in the age column using the mean values of the known cells"
   ]
  },
  {
   "cell_type": "code",
   "execution_count": 22,
   "id": "98b1f78f",
   "metadata": {},
   "outputs": [],
   "source": [
    "# remove all rows with Nan values in any columns and check the number of data points after that\n",
    "df.dropna(subset=['driver_race','violation','stop_outcome','is_arrested','stop_duration','driver_gender'], how='all');"
   ]
  },
  {
   "cell_type": "code",
   "execution_count": 23,
   "id": "414f886a",
   "metadata": {},
   "outputs": [
    {
     "data": {
      "text/html": [
       "<div>\n",
       "<style scoped>\n",
       "    .dataframe tbody tr th:only-of-type {\n",
       "        vertical-align: middle;\n",
       "    }\n",
       "\n",
       "    .dataframe tbody tr th {\n",
       "        vertical-align: top;\n",
       "    }\n",
       "\n",
       "    .dataframe thead th {\n",
       "        text-align: right;\n",
       "    }\n",
       "</style>\n",
       "<table border=\"1\" class=\"dataframe\">\n",
       "  <thead>\n",
       "    <tr style=\"text-align: right;\">\n",
       "      <th></th>\n",
       "      <th>stop_date</th>\n",
       "      <th>stop_time</th>\n",
       "      <th>driver_gender</th>\n",
       "      <th>driver_age</th>\n",
       "      <th>driver_race</th>\n",
       "      <th>violation</th>\n",
       "      <th>search_conducted</th>\n",
       "      <th>stop_outcome</th>\n",
       "      <th>is_arrested</th>\n",
       "      <th>stop_duration</th>\n",
       "      <th>drugs_related_stop</th>\n",
       "    </tr>\n",
       "  </thead>\n",
       "  <tbody>\n",
       "    <tr>\n",
       "      <th>0</th>\n",
       "      <td>1/2/2005</td>\n",
       "      <td>1:55</td>\n",
       "      <td>M</td>\n",
       "      <td>20.000000</td>\n",
       "      <td>White</td>\n",
       "      <td>Speeding</td>\n",
       "      <td>False</td>\n",
       "      <td>Citation</td>\n",
       "      <td>False</td>\n",
       "      <td>0-15 Min</td>\n",
       "      <td>False</td>\n",
       "    </tr>\n",
       "    <tr>\n",
       "      <th>1</th>\n",
       "      <td>1/18/2005</td>\n",
       "      <td>8:15</td>\n",
       "      <td>M</td>\n",
       "      <td>40.000000</td>\n",
       "      <td>White</td>\n",
       "      <td>Speeding</td>\n",
       "      <td>False</td>\n",
       "      <td>Citation</td>\n",
       "      <td>False</td>\n",
       "      <td>0-15 Min</td>\n",
       "      <td>False</td>\n",
       "    </tr>\n",
       "    <tr>\n",
       "      <th>2</th>\n",
       "      <td>1/23/2005</td>\n",
       "      <td>23:15</td>\n",
       "      <td>M</td>\n",
       "      <td>33.000000</td>\n",
       "      <td>White</td>\n",
       "      <td>Speeding</td>\n",
       "      <td>False</td>\n",
       "      <td>Citation</td>\n",
       "      <td>False</td>\n",
       "      <td>0-15 Min</td>\n",
       "      <td>False</td>\n",
       "    </tr>\n",
       "    <tr>\n",
       "      <th>3</th>\n",
       "      <td>2/20/2005</td>\n",
       "      <td>17:15</td>\n",
       "      <td>M</td>\n",
       "      <td>19.000000</td>\n",
       "      <td>White</td>\n",
       "      <td>Other</td>\n",
       "      <td>False</td>\n",
       "      <td>Arrest Driver</td>\n",
       "      <td>True</td>\n",
       "      <td>16-30 Min</td>\n",
       "      <td>False</td>\n",
       "    </tr>\n",
       "    <tr>\n",
       "      <th>4</th>\n",
       "      <td>3/14/2005</td>\n",
       "      <td>10:00</td>\n",
       "      <td>F</td>\n",
       "      <td>21.000000</td>\n",
       "      <td>White</td>\n",
       "      <td>Speeding</td>\n",
       "      <td>False</td>\n",
       "      <td>Citation</td>\n",
       "      <td>False</td>\n",
       "      <td>0-15 Min</td>\n",
       "      <td>False</td>\n",
       "    </tr>\n",
       "    <tr>\n",
       "      <th>...</th>\n",
       "      <td>...</td>\n",
       "      <td>...</td>\n",
       "      <td>...</td>\n",
       "      <td>...</td>\n",
       "      <td>...</td>\n",
       "      <td>...</td>\n",
       "      <td>...</td>\n",
       "      <td>...</td>\n",
       "      <td>...</td>\n",
       "      <td>...</td>\n",
       "      <td>...</td>\n",
       "    </tr>\n",
       "    <tr>\n",
       "      <th>52960</th>\n",
       "      <td>10/5/2011</td>\n",
       "      <td>1:55</td>\n",
       "      <td>NaN</td>\n",
       "      <td>34.171483</td>\n",
       "      <td>NaN</td>\n",
       "      <td>NaN</td>\n",
       "      <td>False</td>\n",
       "      <td>NaN</td>\n",
       "      <td>NaN</td>\n",
       "      <td>NaN</td>\n",
       "      <td>False</td>\n",
       "    </tr>\n",
       "    <tr>\n",
       "      <th>52961</th>\n",
       "      <td>10/5/2011</td>\n",
       "      <td>1:55</td>\n",
       "      <td>NaN</td>\n",
       "      <td>34.171483</td>\n",
       "      <td>NaN</td>\n",
       "      <td>NaN</td>\n",
       "      <td>False</td>\n",
       "      <td>NaN</td>\n",
       "      <td>NaN</td>\n",
       "      <td>NaN</td>\n",
       "      <td>False</td>\n",
       "    </tr>\n",
       "    <tr>\n",
       "      <th>52962</th>\n",
       "      <td>10/5/2011</td>\n",
       "      <td>6:43</td>\n",
       "      <td>M</td>\n",
       "      <td>25.000000</td>\n",
       "      <td>White</td>\n",
       "      <td>Speeding</td>\n",
       "      <td>False</td>\n",
       "      <td>Citation</td>\n",
       "      <td>False</td>\n",
       "      <td>0-15 Min</td>\n",
       "      <td>False</td>\n",
       "    </tr>\n",
       "    <tr>\n",
       "      <th>52963</th>\n",
       "      <td>10/5/2011</td>\n",
       "      <td>6:49</td>\n",
       "      <td>NaN</td>\n",
       "      <td>34.171483</td>\n",
       "      <td>NaN</td>\n",
       "      <td>NaN</td>\n",
       "      <td>False</td>\n",
       "      <td>NaN</td>\n",
       "      <td>NaN</td>\n",
       "      <td>NaN</td>\n",
       "      <td>False</td>\n",
       "    </tr>\n",
       "    <tr>\n",
       "      <th>52964</th>\n",
       "      <td>10/5/2011</td>\n",
       "      <td>7:19</td>\n",
       "      <td>F</td>\n",
       "      <td>25.000000</td>\n",
       "      <td>White</td>\n",
       "      <td>Speeding</td>\n",
       "      <td>False</td>\n",
       "      <td>Citation</td>\n",
       "      <td>False</td>\n",
       "      <td>0-15 Min</td>\n",
       "      <td>False</td>\n",
       "    </tr>\n",
       "  </tbody>\n",
       "</table>\n",
       "<p>52965 rows × 11 columns</p>\n",
       "</div>"
      ],
      "text/plain": [
       "       stop_date stop_time driver_gender  driver_age driver_race violation  \\\n",
       "0       1/2/2005      1:55             M   20.000000       White  Speeding   \n",
       "1      1/18/2005      8:15             M   40.000000       White  Speeding   \n",
       "2      1/23/2005     23:15             M   33.000000       White  Speeding   \n",
       "3      2/20/2005     17:15             M   19.000000       White     Other   \n",
       "4      3/14/2005     10:00             F   21.000000       White  Speeding   \n",
       "...          ...       ...           ...         ...         ...       ...   \n",
       "52960  10/5/2011      1:55           NaN   34.171483         NaN       NaN   \n",
       "52961  10/5/2011      1:55           NaN   34.171483         NaN       NaN   \n",
       "52962  10/5/2011      6:43             M   25.000000       White  Speeding   \n",
       "52963  10/5/2011      6:49           NaN   34.171483         NaN       NaN   \n",
       "52964  10/5/2011      7:19             F   25.000000       White  Speeding   \n",
       "\n",
       "      search_conducted   stop_outcome is_arrested stop_duration  \\\n",
       "0                False       Citation       False      0-15 Min   \n",
       "1                False       Citation       False      0-15 Min   \n",
       "2                False       Citation       False      0-15 Min   \n",
       "3                False  Arrest Driver        True     16-30 Min   \n",
       "4                False       Citation       False      0-15 Min   \n",
       "...                ...            ...         ...           ...   \n",
       "52960            False            NaN         NaN           NaN   \n",
       "52961            False            NaN         NaN           NaN   \n",
       "52962            False       Citation       False      0-15 Min   \n",
       "52963            False            NaN         NaN           NaN   \n",
       "52964            False       Citation       False      0-15 Min   \n",
       "\n",
       "      drugs_related_stop  \n",
       "0                  False  \n",
       "1                  False  \n",
       "2                  False  \n",
       "3                  False  \n",
       "4                  False  \n",
       "...                  ...  \n",
       "52960              False  \n",
       "52961              False  \n",
       "52962              False  \n",
       "52963              False  \n",
       "52964              False  \n",
       "\n",
       "[52965 rows x 11 columns]"
      ]
     },
     "execution_count": 23,
     "metadata": {},
     "output_type": "execute_result"
    }
   ],
   "source": [
    "df"
   ]
  },
  {
   "cell_type": "code",
   "execution_count": null,
   "id": "0c03fb69",
   "metadata": {},
   "outputs": [],
   "source": []
  },
  {
   "cell_type": "code",
   "execution_count": null,
   "id": "ecbdccb0",
   "metadata": {},
   "outputs": [],
   "source": [
    "'''\n",
    "# importing the first 10 raws into an image\n",
    "a = df[0:10]\n",
    "import dataframe_image as dfi\n",
    "dfi.export(a,\"headers_10.png\")'''"
   ]
  },
  {
   "cell_type": "code",
   "execution_count": 26,
   "id": "5a835275",
   "metadata": {},
   "outputs": [],
   "source": [
    "# now we have clean data points that we can deal with\n",
    "# and data are ready for analysis"
   ]
  },
  {
   "cell_type": "code",
   "execution_count": 27,
   "id": "5f6a36b3",
   "metadata": {},
   "outputs": [],
   "source": [
    "########################################### Data Analysis ################################################"
   ]
  },
  {
   "cell_type": "markdown",
   "id": "3aa60713",
   "metadata": {},
   "source": [
    "### 1- Male vs Female drivers who do an accident"
   ]
  },
  {
   "cell_type": "code",
   "execution_count": 28,
   "id": "834a57cf",
   "metadata": {},
   "outputs": [
    {
     "data": {
      "text/plain": [
       "Text(27.125, 0.5, 'number of persons')"
      ]
     },
     "execution_count": 28,
     "metadata": {},
     "output_type": "execute_result"
    },
    {
     "data": {
      "image/png": "[encoded data removed]",
      "text/plain": [
       "<Figure size 504x360 with 1 Axes>"
      ]
     },
     "metadata": {
      "needs_background": "light"
     },
     "output_type": "display_data"
    }
   ],
   "source": [
    "fig, ax = plt.subplots()\n",
    "fig.canvas.draw()\n",
    "df.driver_gender.value_counts().plot(kind=\"bar\", width=0.3, figsize=(7, 5), color = [\"r\",\"b\"])\n",
    "plt.title(\"Male vs Female drivers\")\n",
    "plt.ylabel(\"number of persons\", fontsize=14)"
   ]
  },
  {
   "cell_type": "code",
   "execution_count": 92,
   "id": "c099657c",
   "metadata": {},
   "outputs": [
    {
     "data": {
      "text/html": [
       "<div>\n",
       "<style scoped>\n",
       "    .dataframe tbody tr th:only-of-type {\n",
       "        vertical-align: middle;\n",
       "    }\n",
       "\n",
       "    .dataframe tbody tr th {\n",
       "        vertical-align: top;\n",
       "    }\n",
       "\n",
       "    .dataframe thead th {\n",
       "        text-align: right;\n",
       "    }\n",
       "</style>\n",
       "<table border=\"1\" class=\"dataframe\">\n",
       "  <thead>\n",
       "    <tr style=\"text-align: right;\">\n",
       "      <th>driver_gender</th>\n",
       "      <th>driver_gender F</th>\n",
       "      <th>driver_gender M</th>\n",
       "    </tr>\n",
       "    <tr>\n",
       "      <th>driver_gender</th>\n",
       "      <th></th>\n",
       "      <th></th>\n",
       "    </tr>\n",
       "  </thead>\n",
       "  <tbody>\n",
       "    <tr>\n",
       "      <th>F</th>\n",
       "      <td>13016</td>\n",
       "      <td>0</td>\n",
       "    </tr>\n",
       "    <tr>\n",
       "      <th>M</th>\n",
       "      <td>0</td>\n",
       "      <td>36564</td>\n",
       "    </tr>\n",
       "  </tbody>\n",
       "</table>\n",
       "</div>"
      ],
      "text/plain": [
       "driver_gender  driver_gender F  driver_gender M\n",
       "driver_gender                                  \n",
       "F                        13016                0\n",
       "M                            0            36564"
      ]
     },
     "execution_count": 92,
     "metadata": {},
     "output_type": "execute_result"
    }
   ],
   "source": [
    "# number of driver genders involved in the dataset\n",
    "genders = (df.pivot_table(index='driver_gender',columns='driver_gender', aggfunc='size', fill_value=0).add_prefix('driver_gender '))\n",
    "genders"
   ]
  },
  {
   "cell_type": "code",
   "execution_count": 100,
   "id": "68d84775",
   "metadata": {},
   "outputs": [
    {
     "name": "stdout",
     "output_type": "stream",
     "text": [
      "the percentage of males: 73.74747882210569 %\n",
      "the percentage of females: 26.252521177894312 %\n"
     ]
    }
   ],
   "source": [
    "females = genders.values[0][0]\n",
    "males = genders.values[1][1]\n",
    "print(f\"the percentage of males: {males*100/(females+males)} %\")\n",
    "print(f\"the percentage of females: {females*100/(females+males)} %\")"
   ]
  },
  {
   "cell_type": "code",
   "execution_count": 91,
   "id": "8f2a0be6",
   "metadata": {},
   "outputs": [
    {
     "data": {
      "text/html": [
       "<div>\n",
       "<style scoped>\n",
       "    .dataframe tbody tr th:only-of-type {\n",
       "        vertical-align: middle;\n",
       "    }\n",
       "\n",
       "    .dataframe tbody tr th {\n",
       "        vertical-align: top;\n",
       "    }\n",
       "\n",
       "    .dataframe thead th {\n",
       "        text-align: right;\n",
       "    }\n",
       "</style>\n",
       "<table border=\"1\" class=\"dataframe\">\n",
       "  <thead>\n",
       "    <tr style=\"text-align: right;\">\n",
       "      <th>driver_age</th>\n",
       "      <th>15.0</th>\n",
       "      <th>16.0</th>\n",
       "      <th>17.0</th>\n",
       "      <th>18.0</th>\n",
       "      <th>19.0</th>\n",
       "      <th>20.0</th>\n",
       "      <th>21.0</th>\n",
       "      <th>22.0</th>\n",
       "      <th>23.0</th>\n",
       "      <th>24.0</th>\n",
       "      <th>...</th>\n",
       "      <th>78.0</th>\n",
       "      <th>79.0</th>\n",
       "      <th>80.0</th>\n",
       "      <th>81.0</th>\n",
       "      <th>82.0</th>\n",
       "      <th>83.0</th>\n",
       "      <th>84.0</th>\n",
       "      <th>86.0</th>\n",
       "      <th>88.0</th>\n",
       "      <th>All</th>\n",
       "    </tr>\n",
       "    <tr>\n",
       "      <th>driver_gender</th>\n",
       "      <th></th>\n",
       "      <th></th>\n",
       "      <th></th>\n",
       "      <th></th>\n",
       "      <th></th>\n",
       "      <th></th>\n",
       "      <th></th>\n",
       "      <th></th>\n",
       "      <th></th>\n",
       "      <th></th>\n",
       "      <th></th>\n",
       "      <th></th>\n",
       "      <th></th>\n",
       "      <th></th>\n",
       "      <th></th>\n",
       "      <th></th>\n",
       "      <th></th>\n",
       "      <th></th>\n",
       "      <th></th>\n",
       "      <th></th>\n",
       "      <th></th>\n",
       "    </tr>\n",
       "  </thead>\n",
       "  <tbody>\n",
       "    <tr>\n",
       "      <th>F</th>\n",
       "      <td>2</td>\n",
       "      <td>6</td>\n",
       "      <td>124</td>\n",
       "      <td>364</td>\n",
       "      <td>628</td>\n",
       "      <td>772</td>\n",
       "      <td>745</td>\n",
       "      <td>718</td>\n",
       "      <td>619</td>\n",
       "      <td>578</td>\n",
       "      <td>...</td>\n",
       "      <td>1</td>\n",
       "      <td>3</td>\n",
       "      <td>2</td>\n",
       "      <td>1</td>\n",
       "      <td>2</td>\n",
       "      <td>0</td>\n",
       "      <td>1</td>\n",
       "      <td>0</td>\n",
       "      <td>0</td>\n",
       "      <td>13016</td>\n",
       "    </tr>\n",
       "    <tr>\n",
       "      <th>M</th>\n",
       "      <td>3</td>\n",
       "      <td>20</td>\n",
       "      <td>256</td>\n",
       "      <td>781</td>\n",
       "      <td>1364</td>\n",
       "      <td>1538</td>\n",
       "      <td>1597</td>\n",
       "      <td>1579</td>\n",
       "      <td>1511</td>\n",
       "      <td>1473</td>\n",
       "      <td>...</td>\n",
       "      <td>11</td>\n",
       "      <td>10</td>\n",
       "      <td>8</td>\n",
       "      <td>4</td>\n",
       "      <td>6</td>\n",
       "      <td>2</td>\n",
       "      <td>2</td>\n",
       "      <td>6</td>\n",
       "      <td>2</td>\n",
       "      <td>36564</td>\n",
       "    </tr>\n",
       "    <tr>\n",
       "      <th>All</th>\n",
       "      <td>5</td>\n",
       "      <td>26</td>\n",
       "      <td>380</td>\n",
       "      <td>1145</td>\n",
       "      <td>1992</td>\n",
       "      <td>2310</td>\n",
       "      <td>2342</td>\n",
       "      <td>2297</td>\n",
       "      <td>2130</td>\n",
       "      <td>2051</td>\n",
       "      <td>...</td>\n",
       "      <td>12</td>\n",
       "      <td>13</td>\n",
       "      <td>10</td>\n",
       "      <td>5</td>\n",
       "      <td>8</td>\n",
       "      <td>2</td>\n",
       "      <td>3</td>\n",
       "      <td>6</td>\n",
       "      <td>2</td>\n",
       "      <td>49580</td>\n",
       "    </tr>\n",
       "  </tbody>\n",
       "</table>\n",
       "<p>3 rows × 74 columns</p>\n",
       "</div>"
      ],
      "text/plain": [
       "driver_age     15.0  16.0  17.0  18.0  19.0  20.0  21.0  22.0  23.0  24.0  \\\n",
       "driver_gender                                                               \n",
       "F                 2     6   124   364   628   772   745   718   619   578   \n",
       "M                 3    20   256   781  1364  1538  1597  1579  1511  1473   \n",
       "All               5    26   380  1145  1992  2310  2342  2297  2130  2051   \n",
       "\n",
       "driver_age     ...  78.0  79.0  80.0  81.0  82.0  83.0  84.0  86.0  88.0  \\\n",
       "driver_gender  ...                                                         \n",
       "F              ...     1     3     2     1     2     0     1     0     0   \n",
       "M              ...    11    10     8     4     6     2     2     6     2   \n",
       "All            ...    12    13    10     5     8     2     3     6     2   \n",
       "\n",
       "driver_age       All  \n",
       "driver_gender         \n",
       "F              13016  \n",
       "M              36564  \n",
       "All            49580  \n",
       "\n",
       "[3 rows x 74 columns]"
      ]
     },
     "execution_count": 91,
     "metadata": {},
     "output_type": "execute_result"
    }
   ],
   "source": [
    "# the distribution of ages over the genders\n",
    "pd.crosstab(df['driver_gender'],df['driver_age'], margins=True)"
   ]
  },
  {
   "cell_type": "code",
   "execution_count": 63,
   "id": "eb81628e",
   "metadata": {},
   "outputs": [
    {
     "name": "stdout",
     "output_type": "stream",
     "text": [
      "Males: 420477\n",
      "Females: 1273782\n"
     ]
    }
   ],
   "source": [
    "genders = df.pivot_table(index=['driver_gender'], aggfunc=np.sum)\n",
    "num_of_males = int(genders.values[0][0])\n",
    "num_of_females = int(genders.values[1][0])\n",
    "total = num_of_males + num_of_females\n",
    "print(f\"Males: {num_of_males}\")\n",
    "print(f\"Females: {num_of_females}\")"
   ]
  },
  {
   "cell_type": "code",
   "execution_count": 10,
   "id": "b313b627",
   "metadata": {},
   "outputs": [],
   "source": [
    "male_percent = (df.driver_gender.value_counts().M * 100) / (df.driver_gender.value_counts().M + df.driver_gender.value_counts().F)\n",
    "female_percent = 100 - male_percent"
   ]
  },
  {
   "cell_type": "code",
   "execution_count": 11,
   "id": "8a01939f",
   "metadata": {},
   "outputs": [
    {
     "name": "stdout",
     "output_type": "stream",
     "text": [
      "Male Percent: 73.74747882210569 %\n",
      "Female Percent: 26.25252117789431 %\n"
     ]
    }
   ],
   "source": [
    "print(f\"Male Percent: {male_percent} %\")\n",
    "print(f\"Female Percent: {female_percent} %\")"
   ]
  },
  {
   "cell_type": "markdown",
   "id": "c1a4e667",
   "metadata": {},
   "source": [
    "### 2- Variation of people's age vs the number of total people"
   ]
  },
  {
   "cell_type": "code",
   "execution_count": 103,
   "id": "472a4eb5",
   "metadata": {},
   "outputs": [
    {
     "data": {
      "text/plain": [
       "Text(0.5, 0, 'Age')"
      ]
     },
     "execution_count": 103,
     "metadata": {},
     "output_type": "execute_result"
    },
    {
     "data": {
      "image/png": "[encoded data removed]",
      "text/plain": [
       "<Figure size 432x288 with 1 Axes>"
      ]
     },
     "metadata": {
      "needs_background": "light"
     },
     "output_type": "display_data"
    }
   ],
   "source": [
    "x1 = df.driver_age\n",
    "x2 = df.loc[df['driver_gender'] == 'M', ['driver_age']] \n",
    "plt.hist(x1, density=True, bins=50,color='g')  # density=False would make counts\n",
    "plt.ylabel('Number of People')\n",
    "plt.xlabel('Age')"
   ]
  },
  {
   "cell_type": "code",
   "execution_count": 127,
   "id": "e783a45c",
   "metadata": {},
   "outputs": [
    {
     "data": {
      "text/plain": [
       "34.171483    3619\n",
       "21.000000    2343\n",
       "20.000000    2310\n",
       "22.000000    2297\n",
       "23.000000    2130\n",
       "             ... \n",
       "81.000000       5\n",
       "15.000000       5\n",
       "84.000000       3\n",
       "88.000000       2\n",
       "83.000000       2\n",
       "Name: driver_age, Length: 73, dtype: int64"
      ]
     },
     "execution_count": 127,
     "metadata": {},
     "output_type": "execute_result"
    }
   ],
   "source": [
    "df['driver_age'].value_counts()"
   ]
  },
  {
   "cell_type": "code",
   "execution_count": 128,
   "id": "5748d7cc",
   "metadata": {},
   "outputs": [
    {
     "data": {
      "text/plain": [
       "6.832814122533748"
      ]
     },
     "execution_count": 128,
     "metadata": {},
     "output_type": "execute_result"
    }
   ],
   "source": [
    "# it is clear that the maximum number of drivers who violate the rules were 34 years old\n",
    "people_34_ratio = df['driver_age'].value_counts().values[0] * 100 / df['driver_age'].value_counts().sum()\n",
    "people_34_ratio"
   ]
  },
  {
   "cell_type": "markdown",
   "id": "45335819",
   "metadata": {},
   "source": [
    "### 3- Variations of violation types"
   ]
  },
  {
   "cell_type": "code",
   "execution_count": 15,
   "id": "a7563e63",
   "metadata": {},
   "outputs": [
    {
     "data": {
      "text/plain": [
       "Text(27.125, 0.5, 'number of persons')"
      ]
     },
     "execution_count": 15,
     "metadata": {},
     "output_type": "execute_result"
    },
    {
     "data": {
      "image/png": "[encoded data removed]",
      "text/plain": [
       "<Figure size 648x360 with 1 Axes>"
      ]
     },
     "metadata": {
      "needs_background": "light"
     },
     "output_type": "display_data"
    }
   ],
   "source": [
    "fig, ax = plt.subplots()\n",
    "fig.canvas.draw()\n",
    "df.violation.value_counts().plot(kind=\"bar\", width=0.3, figsize=(9, 5), color = [\"r\",\"b\",\"g\",\"gray\",\"black\"])\n",
    "plt.title(\"Male vs Female drivers\")\n",
    "plt.ylabel(\"number of persons\", fontsize=14)"
   ]
  },
  {
   "cell_type": "code",
   "execution_count": 155,
   "id": "abf83be6",
   "metadata": {},
   "outputs": [
    {
     "data": {
      "text/html": [
       "<div>\n",
       "<style scoped>\n",
       "    .dataframe tbody tr th:only-of-type {\n",
       "        vertical-align: middle;\n",
       "    }\n",
       "\n",
       "    .dataframe tbody tr th {\n",
       "        vertical-align: top;\n",
       "    }\n",
       "\n",
       "    .dataframe thead th {\n",
       "        text-align: right;\n",
       "    }\n",
       "</style>\n",
       "<table border=\"1\" class=\"dataframe\">\n",
       "  <thead>\n",
       "    <tr style=\"text-align: right;\">\n",
       "      <th>violation</th>\n",
       "      <th>Equipment</th>\n",
       "      <th>Moving violation</th>\n",
       "      <th>Other</th>\n",
       "      <th>Registration/plates</th>\n",
       "      <th>Speeding</th>\n",
       "      <th>All</th>\n",
       "    </tr>\n",
       "    <tr>\n",
       "      <th>row_0</th>\n",
       "      <th></th>\n",
       "      <th></th>\n",
       "      <th></th>\n",
       "      <th></th>\n",
       "      <th></th>\n",
       "      <th></th>\n",
       "    </tr>\n",
       "  </thead>\n",
       "  <tbody>\n",
       "    <tr>\n",
       "      <th>violation</th>\n",
       "      <td>4276</td>\n",
       "      <td>8385</td>\n",
       "      <td>2961</td>\n",
       "      <td>1820</td>\n",
       "      <td>32139</td>\n",
       "      <td>49581</td>\n",
       "    </tr>\n",
       "    <tr>\n",
       "      <th>All</th>\n",
       "      <td>4276</td>\n",
       "      <td>8385</td>\n",
       "      <td>2961</td>\n",
       "      <td>1820</td>\n",
       "      <td>32139</td>\n",
       "      <td>49581</td>\n",
       "    </tr>\n",
       "  </tbody>\n",
       "</table>\n",
       "</div>"
      ],
      "text/plain": [
       "violation  Equipment  Moving violation  Other  Registration/plates  Speeding  \\\n",
       "row_0                                                                          \n",
       "violation       4276              8385   2961                 1820     32139   \n",
       "All             4276              8385   2961                 1820     32139   \n",
       "\n",
       "violation    All  \n",
       "row_0             \n",
       "violation  49581  \n",
       "All        49581  "
      ]
     },
     "execution_count": 155,
     "metadata": {},
     "output_type": "execute_result"
    }
   ],
   "source": [
    "pd.crosstab(columns=df['violation'], index='violation', margins=True)"
   ]
  },
  {
   "cell_type": "code",
   "execution_count": 156,
   "id": "01f08c78",
   "metadata": {},
   "outputs": [
    {
     "name": "stdout",
     "output_type": "stream",
     "text": [
      "Speeding represents 64.82120166999455 % of the total violations\n"
     ]
    }
   ],
   "source": [
    "# from the above crosstable we can coclude the ratio of the speeding violation relative to other violations\n",
    "speeding_count = pd.crosstab(columns=df['violation'], index='violation', margins=True)['Speeding'][0]\n",
    "violations_count = pd.crosstab(columns=df['violation'], index='violation', margins=True)['All'][0]\n",
    "print(f\"Speeding represents {speeding_count*100/violations_count}% of the total violations\")"
   ]
  },
  {
   "cell_type": "code",
   "execution_count": null,
   "id": "337982d2",
   "metadata": {},
   "outputs": [],
   "source": []
  },
  {
   "cell_type": "markdown",
   "id": "33c71403",
   "metadata": {},
   "source": [
    "### 4- Age vs Speeding Violation# "
   ]
  },
  {
   "cell_type": "code",
   "execution_count": 16,
   "id": "6bbcca14",
   "metadata": {},
   "outputs": [
    {
     "data": {
      "text/plain": [
       "Text(27.125, 0.5, 'Speeding Violations')"
      ]
     },
     "execution_count": 16,
     "metadata": {},
     "output_type": "execute_result"
    },
    {
     "data": {
      "image/png": "[encoded data removed]",
      "text/plain": [
       "<Figure size 648x360 with 1 Axes>"
      ]
     },
     "metadata": {
      "needs_background": "light"
     },
     "output_type": "display_data"
    }
   ],
   "source": [
    "fig, ax = plt.subplots()\n",
    "fig.canvas.draw()\n",
    "x = df.loc[df['violation'] == 'Speeding', ['driver_age','driver_gender']]\n",
    "male_data = x.loc[x['driver_gender'] == 'M', ['driver_age']]\n",
    "female_data = x.loc[x['driver_gender'] == 'F', ['driver_age']]\n",
    "x.value_counts().plot(kind=\"line\",  figsize=(9, 5), color = [\"r\"])\n",
    "male_data.value_counts().plot(kind=\"line\",  figsize=(9, 5), color = [\"b\"])\n",
    "female_data.value_counts().plot(kind=\"line\",  figsize=(9, 5), color = [\"g\"])\n",
    "plt.title(\"Gender Age vs Speeding Violation\")\n",
    "plt.legend(['All Genders', 'Male','Female'], loc='upper right')\n",
    "plt.grid()\n",
    "plt.ylabel(\"Speeding Violations\", fontsize=14)"
   ]
  },
  {
   "cell_type": "code",
   "execution_count": 213,
   "id": "3e503d3a",
   "metadata": {},
   "outputs": [
    {
     "data": {
      "text/plain": [
       "Text(0, 0.5, 'stop outcome')"
      ]
     },
     "execution_count": 213,
     "metadata": {},
     "output_type": "execute_result"
    },
    {
     "data": {
      "image/png": "[encoded data removed]",
      "text/plain": [
       "<Figure size 432x288 with 1 Axes>"
      ]
     },
     "metadata": {
      "needs_background": "light"
     },
     "output_type": "display_data"
    }
   ],
   "source": [
    "a = df.pivot_table(index='violation',columns='driver_age', aggfunc='size', fill_value=0)\n",
    "tot = a.sum()\n",
    "plt.plot(a.sum())\n",
    "plt.title(\"Driver age vs violation\")\n",
    "plt.xlabel(\"driver age\", fontsize=14)\n",
    "plt.ylabel(\"stop outcome\", fontsize=14)"
   ]
  },
  {
   "cell_type": "markdown",
   "id": "f60b8138",
   "metadata": {},
   "source": [
    "### 5-  Distribution of Results of Violation"
   ]
  },
  {
   "cell_type": "code",
   "execution_count": 17,
   "id": "d2bb4a96",
   "metadata": {},
   "outputs": [
    {
     "data": {
      "image/png": "[encoded data removed]",
      "text/plain": [
       "<Figure size 432x288 with 1 Axes>"
      ]
     },
     "metadata": {},
     "output_type": "display_data"
    }
   ],
   "source": [
    "import matplotlib.pyplot as plt\n",
    "import numpy as np\n",
    "\n",
    "y = df.stop_outcome.value_counts()\n",
    "mylabels = [\"Citation\", \"Arrest Driver\", \"Warning\", \"N/D\", \"No Action\", \"Arrest Passenger\"]\n",
    "myexplode = [0.4, 0.4, 0.2, 0.5,1.3,0.0]\n",
    "\n",
    "plt.pie(y, labels = mylabels, explode = myexplode  , shadow = True)\n",
    "plt.show() "
   ]
  },
  {
   "cell_type": "code",
   "execution_count": 187,
   "id": "77b95d0c",
   "metadata": {},
   "outputs": [
    {
     "data": {
      "text/html": [
       "<div>\n",
       "<style scoped>\n",
       "    .dataframe tbody tr th:only-of-type {\n",
       "        vertical-align: middle;\n",
       "    }\n",
       "\n",
       "    .dataframe tbody tr th {\n",
       "        vertical-align: top;\n",
       "    }\n",
       "\n",
       "    .dataframe thead th {\n",
       "        text-align: right;\n",
       "    }\n",
       "</style>\n",
       "<table border=\"1\" class=\"dataframe\">\n",
       "  <thead>\n",
       "    <tr style=\"text-align: right;\">\n",
       "      <th>stop_outcome</th>\n",
       "      <th>Arrest Driver</th>\n",
       "      <th>Arrest Passenger</th>\n",
       "      <th>Citation</th>\n",
       "      <th>N/D</th>\n",
       "      <th>No Action</th>\n",
       "      <th>Warning</th>\n",
       "      <th>All</th>\n",
       "    </tr>\n",
       "    <tr>\n",
       "      <th>row_0</th>\n",
       "      <th></th>\n",
       "      <th></th>\n",
       "      <th></th>\n",
       "      <th></th>\n",
       "      <th></th>\n",
       "      <th></th>\n",
       "      <th></th>\n",
       "    </tr>\n",
       "  </thead>\n",
       "  <tbody>\n",
       "    <tr>\n",
       "      <th>stop_outcome</th>\n",
       "      <td>1669</td>\n",
       "      <td>200</td>\n",
       "      <td>45931</td>\n",
       "      <td>348</td>\n",
       "      <td>285</td>\n",
       "      <td>1148</td>\n",
       "      <td>49581</td>\n",
       "    </tr>\n",
       "    <tr>\n",
       "      <th>All</th>\n",
       "      <td>1669</td>\n",
       "      <td>200</td>\n",
       "      <td>45931</td>\n",
       "      <td>348</td>\n",
       "      <td>285</td>\n",
       "      <td>1148</td>\n",
       "      <td>49581</td>\n",
       "    </tr>\n",
       "  </tbody>\n",
       "</table>\n",
       "</div>"
      ],
      "text/plain": [
       "stop_outcome  Arrest Driver  Arrest Passenger  Citation  N/D  No Action  \\\n",
       "row_0                                                                     \n",
       "stop_outcome           1669               200     45931  348        285   \n",
       "All                    1669               200     45931  348        285   \n",
       "\n",
       "stop_outcome  Warning    All  \n",
       "row_0                         \n",
       "stop_outcome     1148  49581  \n",
       "All              1148  49581  "
      ]
     },
     "execution_count": 187,
     "metadata": {},
     "output_type": "execute_result"
    }
   ],
   "source": [
    "pd.crosstab(columns=df['stop_outcome'], index='stop_outcome', margins=True)"
   ]
  },
  {
   "cell_type": "code",
   "execution_count": 188,
   "id": "b42dd25c",
   "metadata": {},
   "outputs": [
    {
     "name": "stdout",
     "output_type": "stream",
     "text": [
      "citation ratio is 92.63830902966862%\n"
     ]
    }
   ],
   "source": [
    "# the ratio of the citation result relative to other stop outcome\n",
    "citation_count = pd.crosstab(columns=df['stop_outcome'], index='stop_outcome', margins=True)['Citation'][0]\n",
    "total_count = pd.crosstab(columns=df['stop_outcome'], index='stop_outcome', margins=True)['All'][0]\n",
    "print(f\"citation ratio is {(citation_count*100) / (total_count )}%\")"
   ]
  },
  {
   "cell_type": "code",
   "execution_count": 189,
   "id": "65b07b3f",
   "metadata": {},
   "outputs": [
    {
     "data": {
      "text/html": [
       "<div>\n",
       "<style scoped>\n",
       "    .dataframe tbody tr th:only-of-type {\n",
       "        vertical-align: middle;\n",
       "    }\n",
       "\n",
       "    .dataframe tbody tr th {\n",
       "        vertical-align: top;\n",
       "    }\n",
       "\n",
       "    .dataframe thead th {\n",
       "        text-align: right;\n",
       "    }\n",
       "</style>\n",
       "<table border=\"1\" class=\"dataframe\">\n",
       "  <thead>\n",
       "    <tr style=\"text-align: right;\">\n",
       "      <th>driver_age</th>\n",
       "      <th>15.0</th>\n",
       "      <th>16.0</th>\n",
       "      <th>17.0</th>\n",
       "      <th>18.0</th>\n",
       "      <th>19.0</th>\n",
       "      <th>20.0</th>\n",
       "      <th>21.0</th>\n",
       "      <th>22.0</th>\n",
       "      <th>23.0</th>\n",
       "      <th>24.0</th>\n",
       "      <th>...</th>\n",
       "      <th>77.0</th>\n",
       "      <th>78.0</th>\n",
       "      <th>79.0</th>\n",
       "      <th>80.0</th>\n",
       "      <th>81.0</th>\n",
       "      <th>82.0</th>\n",
       "      <th>83.0</th>\n",
       "      <th>84.0</th>\n",
       "      <th>86.0</th>\n",
       "      <th>88.0</th>\n",
       "    </tr>\n",
       "    <tr>\n",
       "      <th>stop_outcome</th>\n",
       "      <th></th>\n",
       "      <th></th>\n",
       "      <th></th>\n",
       "      <th></th>\n",
       "      <th></th>\n",
       "      <th></th>\n",
       "      <th></th>\n",
       "      <th></th>\n",
       "      <th></th>\n",
       "      <th></th>\n",
       "      <th></th>\n",
       "      <th></th>\n",
       "      <th></th>\n",
       "      <th></th>\n",
       "      <th></th>\n",
       "      <th></th>\n",
       "      <th></th>\n",
       "      <th></th>\n",
       "      <th></th>\n",
       "      <th></th>\n",
       "      <th></th>\n",
       "    </tr>\n",
       "  </thead>\n",
       "  <tbody>\n",
       "    <tr>\n",
       "      <th>Arrest Driver</th>\n",
       "      <td>3</td>\n",
       "      <td>1</td>\n",
       "      <td>6</td>\n",
       "      <td>31</td>\n",
       "      <td>44</td>\n",
       "      <td>77</td>\n",
       "      <td>85</td>\n",
       "      <td>82</td>\n",
       "      <td>76</td>\n",
       "      <td>76</td>\n",
       "      <td>...</td>\n",
       "      <td>0</td>\n",
       "      <td>0</td>\n",
       "      <td>1</td>\n",
       "      <td>0</td>\n",
       "      <td>0</td>\n",
       "      <td>0</td>\n",
       "      <td>0</td>\n",
       "      <td>0</td>\n",
       "      <td>0</td>\n",
       "      <td>0</td>\n",
       "    </tr>\n",
       "    <tr>\n",
       "      <th>Arrest Passenger</th>\n",
       "      <td>0</td>\n",
       "      <td>0</td>\n",
       "      <td>1</td>\n",
       "      <td>5</td>\n",
       "      <td>12</td>\n",
       "      <td>14</td>\n",
       "      <td>3</td>\n",
       "      <td>11</td>\n",
       "      <td>11</td>\n",
       "      <td>10</td>\n",
       "      <td>...</td>\n",
       "      <td>0</td>\n",
       "      <td>0</td>\n",
       "      <td>0</td>\n",
       "      <td>0</td>\n",
       "      <td>0</td>\n",
       "      <td>0</td>\n",
       "      <td>0</td>\n",
       "      <td>0</td>\n",
       "      <td>0</td>\n",
       "      <td>0</td>\n",
       "    </tr>\n",
       "    <tr>\n",
       "      <th>Citation</th>\n",
       "      <td>2</td>\n",
       "      <td>21</td>\n",
       "      <td>362</td>\n",
       "      <td>1075</td>\n",
       "      <td>1875</td>\n",
       "      <td>2152</td>\n",
       "      <td>2185</td>\n",
       "      <td>2134</td>\n",
       "      <td>1971</td>\n",
       "      <td>1893</td>\n",
       "      <td>...</td>\n",
       "      <td>15</td>\n",
       "      <td>10</td>\n",
       "      <td>8</td>\n",
       "      <td>7</td>\n",
       "      <td>5</td>\n",
       "      <td>5</td>\n",
       "      <td>2</td>\n",
       "      <td>2</td>\n",
       "      <td>5</td>\n",
       "      <td>1</td>\n",
       "    </tr>\n",
       "    <tr>\n",
       "      <th>N/D</th>\n",
       "      <td>0</td>\n",
       "      <td>0</td>\n",
       "      <td>1</td>\n",
       "      <td>13</td>\n",
       "      <td>20</td>\n",
       "      <td>15</td>\n",
       "      <td>15</td>\n",
       "      <td>20</td>\n",
       "      <td>20</td>\n",
       "      <td>21</td>\n",
       "      <td>...</td>\n",
       "      <td>0</td>\n",
       "      <td>0</td>\n",
       "      <td>0</td>\n",
       "      <td>0</td>\n",
       "      <td>0</td>\n",
       "      <td>0</td>\n",
       "      <td>0</td>\n",
       "      <td>0</td>\n",
       "      <td>0</td>\n",
       "      <td>0</td>\n",
       "    </tr>\n",
       "    <tr>\n",
       "      <th>No Action</th>\n",
       "      <td>0</td>\n",
       "      <td>1</td>\n",
       "      <td>1</td>\n",
       "      <td>5</td>\n",
       "      <td>7</td>\n",
       "      <td>10</td>\n",
       "      <td>9</td>\n",
       "      <td>15</td>\n",
       "      <td>8</td>\n",
       "      <td>6</td>\n",
       "      <td>...</td>\n",
       "      <td>0</td>\n",
       "      <td>0</td>\n",
       "      <td>0</td>\n",
       "      <td>0</td>\n",
       "      <td>0</td>\n",
       "      <td>0</td>\n",
       "      <td>0</td>\n",
       "      <td>0</td>\n",
       "      <td>1</td>\n",
       "      <td>0</td>\n",
       "    </tr>\n",
       "    <tr>\n",
       "      <th>Warning</th>\n",
       "      <td>0</td>\n",
       "      <td>3</td>\n",
       "      <td>9</td>\n",
       "      <td>16</td>\n",
       "      <td>34</td>\n",
       "      <td>42</td>\n",
       "      <td>45</td>\n",
       "      <td>35</td>\n",
       "      <td>44</td>\n",
       "      <td>45</td>\n",
       "      <td>...</td>\n",
       "      <td>2</td>\n",
       "      <td>2</td>\n",
       "      <td>4</td>\n",
       "      <td>3</td>\n",
       "      <td>0</td>\n",
       "      <td>3</td>\n",
       "      <td>0</td>\n",
       "      <td>1</td>\n",
       "      <td>0</td>\n",
       "      <td>1</td>\n",
       "    </tr>\n",
       "  </tbody>\n",
       "</table>\n",
       "<p>6 rows × 73 columns</p>\n",
       "</div>"
      ],
      "text/plain": [
       "driver_age        15.0  16.0  17.0  18.0  19.0  20.0  21.0  22.0  23.0  24.0  \\\n",
       "stop_outcome                                                                   \n",
       "Arrest Driver        3     1     6    31    44    77    85    82    76    76   \n",
       "Arrest Passenger     0     0     1     5    12    14     3    11    11    10   \n",
       "Citation             2    21   362  1075  1875  2152  2185  2134  1971  1893   \n",
       "N/D                  0     0     1    13    20    15    15    20    20    21   \n",
       "No Action            0     1     1     5     7    10     9    15     8     6   \n",
       "Warning              0     3     9    16    34    42    45    35    44    45   \n",
       "\n",
       "driver_age        ...  77.0  78.0  79.0  80.0  81.0  82.0  83.0  84.0  86.0  \\\n",
       "stop_outcome      ...                                                         \n",
       "Arrest Driver     ...     0     0     1     0     0     0     0     0     0   \n",
       "Arrest Passenger  ...     0     0     0     0     0     0     0     0     0   \n",
       "Citation          ...    15    10     8     7     5     5     2     2     5   \n",
       "N/D               ...     0     0     0     0     0     0     0     0     0   \n",
       "No Action         ...     0     0     0     0     0     0     0     0     1   \n",
       "Warning           ...     2     2     4     3     0     3     0     1     0   \n",
       "\n",
       "driver_age        88.0  \n",
       "stop_outcome            \n",
       "Arrest Driver        0  \n",
       "Arrest Passenger     0  \n",
       "Citation             1  \n",
       "N/D                  0  \n",
       "No Action            0  \n",
       "Warning              1  \n",
       "\n",
       "[6 rows x 73 columns]"
      ]
     },
     "execution_count": 189,
     "metadata": {},
     "output_type": "execute_result"
    }
   ],
   "source": [
    "# the relation between tha age and the stop outcome\n",
    "df.pivot_table(index='stop_outcome',columns='driver_age', aggfunc='size', fill_value=0)"
   ]
  },
  {
   "cell_type": "code",
   "execution_count": 210,
   "id": "3c718938",
   "metadata": {},
   "outputs": [
    {
     "data": {
      "text/plain": [
       "Text(0, 0.5, 'stop outcome')"
      ]
     },
     "execution_count": 210,
     "metadata": {},
     "output_type": "execute_result"
    },
    {
     "data": {
      "image/png": "[encoded data removed]",
      "text/plain": [
       "<Figure size 432x288 with 1 Axes>"
      ]
     },
     "metadata": {
      "needs_background": "light"
     },
     "output_type": "display_data"
    }
   ],
   "source": [
    "a = df.pivot_table(index='stop_outcome',columns='driver_age', aggfunc='size', fill_value=0)\n",
    "plt.plot(a.sum())\n",
    "plt.title(\"Driver age vs Stop outcome\")\n",
    "plt.xlabel(\"driver age\", fontsize=14)\n",
    "plt.ylabel(\"stop outcome\", fontsize=14)"
   ]
  },
  {
   "cell_type": "markdown",
   "id": "0d65e6d0",
   "metadata": {},
   "source": [
    "### 6- Category of Violation  (speed)  vs Result of violation (citation)"
   ]
  },
  {
   "cell_type": "code",
   "execution_count": 18,
   "id": "4b5e87c9",
   "metadata": {},
   "outputs": [
    {
     "data": {
      "text/plain": [
       "Text(27.125, 0.5, 'Citation')"
      ]
     },
     "execution_count": 18,
     "metadata": {},
     "output_type": "execute_result"
    },
    {
     "data": {
      "image/png": "[encoded data removed]",
      "text/plain": [
       "<Figure size 648x360 with 1 Axes>"
      ]
     },
     "metadata": {
      "needs_background": "light"
     },
     "output_type": "display_data"
    }
   ],
   "source": [
    "fig, ax = plt.subplots()\n",
    "fig.canvas.draw()\n",
    "b = df[df['stop_outcome'] == 'Citation']\n",
    "b.violation.value_counts().plot(kind=\"bar\", width=0.3, figsize=(9, 5), color = [\"c\",\"m\",\"y\",\"k\",\"#384d54\"])\n",
    "plt.title(\"Violation vs Citation\")\n",
    "plt.ylabel(\"Citation\", fontsize=14)"
   ]
  },
  {
   "cell_type": "markdown",
   "id": "35b85d99",
   "metadata": {},
   "source": [
    "### 7- Time where most violations occur"
   ]
  },
  {
   "cell_type": "code",
   "execution_count": 222,
   "id": "d3069311",
   "metadata": {},
   "outputs": [
    {
     "data": {
      "image/png": "[encoded data removed]",
      "text/plain": [
       "<Figure size 936x432 with 1 Axes>"
      ]
     },
     "metadata": {
      "needs_background": "light"
     },
     "output_type": "display_data"
    }
   ],
   "source": [
    "plt.figure(figsize = (13,6))\n",
    "a = df[\"stop_time\"]\n",
    "sns.countplot(x = a,data = df,hue = 'driver_gender')\n",
    "\n",
    "plt.title('Hours vs Num of Accidents ')\n",
    "plt.legend(['Male','Female'])\n",
    "plt.xlabel(\"Stop Time\")\n",
    "plt.ylabel(\"Num of Accidents\");\n",
    "plt.show() "
   ]
  },
  {
   "cell_type": "code",
   "execution_count": 219,
   "id": "1eb0b611",
   "metadata": {},
   "outputs": [
    {
     "data": {
      "text/plain": [
       "11:00    256\n",
       "10:00    255\n",
       "10:30    228\n",
       "9:30     224\n",
       "9:00     224\n",
       "        ... \n",
       "5:31       1\n",
       "4:37       1\n",
       "4:41       1\n",
       "5:21       1\n",
       "5:23       1\n",
       "Name: stop_time, Length: 1427, dtype: int64"
      ]
     },
     "execution_count": 219,
     "metadata": {},
     "output_type": "execute_result"
    }
   ],
   "source": [
    "df['stop_time'].value_counts()"
   ]
  },
  {
   "cell_type": "code",
   "execution_count": 220,
   "id": "38236f37",
   "metadata": {},
   "outputs": [
    {
     "name": "stdout",
     "output_type": "stream",
     "text": [
      "around 0.48333805343151137% occurs at 11 o'clock\n"
     ]
    }
   ],
   "source": [
    "print(f\"around {(df['stop_time'].value_counts().max()*100/df['stop_time'].value_counts().sum())}% occurs at 11 o'clock\")"
   ]
  },
  {
   "cell_type": "markdown",
   "id": "6b394073",
   "metadata": {},
   "source": [
    "### 8-Violation vs Stop_outcome"
   ]
  },
  {
   "cell_type": "code",
   "execution_count": 214,
   "id": "2429824f",
   "metadata": {},
   "outputs": [
    {
     "data": {
      "text/html": [
       "<div>\n",
       "<style scoped>\n",
       "    .dataframe tbody tr th:only-of-type {\n",
       "        vertical-align: middle;\n",
       "    }\n",
       "\n",
       "    .dataframe tbody tr th {\n",
       "        vertical-align: top;\n",
       "    }\n",
       "\n",
       "    .dataframe thead th {\n",
       "        text-align: right;\n",
       "    }\n",
       "</style>\n",
       "<table border=\"1\" class=\"dataframe\">\n",
       "  <thead>\n",
       "    <tr style=\"text-align: right;\">\n",
       "      <th>stop_outcome</th>\n",
       "      <th>Arrest Driver</th>\n",
       "      <th>Arrest Passenger</th>\n",
       "      <th>Citation</th>\n",
       "      <th>N/D</th>\n",
       "      <th>No Action</th>\n",
       "      <th>Warning</th>\n",
       "    </tr>\n",
       "    <tr>\n",
       "      <th>violation</th>\n",
       "      <th></th>\n",
       "      <th></th>\n",
       "      <th></th>\n",
       "      <th></th>\n",
       "      <th></th>\n",
       "      <th></th>\n",
       "    </tr>\n",
       "  </thead>\n",
       "  <tbody>\n",
       "    <tr>\n",
       "      <th>Equipment</th>\n",
       "      <td>281</td>\n",
       "      <td>81</td>\n",
       "      <td>3288</td>\n",
       "      <td>261</td>\n",
       "      <td>25</td>\n",
       "      <td>340</td>\n",
       "    </tr>\n",
       "    <tr>\n",
       "      <th>Moving violation</th>\n",
       "      <td>509</td>\n",
       "      <td>47</td>\n",
       "      <td>7506</td>\n",
       "      <td>26</td>\n",
       "      <td>30</td>\n",
       "      <td>267</td>\n",
       "    </tr>\n",
       "    <tr>\n",
       "      <th>Other</th>\n",
       "      <td>207</td>\n",
       "      <td>7</td>\n",
       "      <td>2517</td>\n",
       "      <td>8</td>\n",
       "      <td>197</td>\n",
       "      <td>25</td>\n",
       "    </tr>\n",
       "    <tr>\n",
       "      <th>Registration/plates</th>\n",
       "      <td>225</td>\n",
       "      <td>23</td>\n",
       "      <td>1512</td>\n",
       "      <td>12</td>\n",
       "      <td>13</td>\n",
       "      <td>35</td>\n",
       "    </tr>\n",
       "    <tr>\n",
       "      <th>Speeding</th>\n",
       "      <td>447</td>\n",
       "      <td>42</td>\n",
       "      <td>31108</td>\n",
       "      <td>41</td>\n",
       "      <td>20</td>\n",
       "      <td>481</td>\n",
       "    </tr>\n",
       "  </tbody>\n",
       "</table>\n",
       "</div>"
      ],
      "text/plain": [
       "stop_outcome         Arrest Driver  Arrest Passenger  Citation  N/D  \\\n",
       "violation                                                             \n",
       "Equipment                      281                81      3288  261   \n",
       "Moving violation               509                47      7506   26   \n",
       "Other                          207                 7      2517    8   \n",
       "Registration/plates            225                23      1512   12   \n",
       "Speeding                       447                42     31108   41   \n",
       "\n",
       "stop_outcome         No Action  Warning  \n",
       "violation                                \n",
       "Equipment                   25      340  \n",
       "Moving violation            30      267  \n",
       "Other                      197       25  \n",
       "Registration/plates         13       35  \n",
       "Speeding                    20      481  "
      ]
     },
     "execution_count": 214,
     "metadata": {},
     "output_type": "execute_result"
    }
   ],
   "source": [
    "df.pivot_table(index='violation',columns='stop_outcome', aggfunc='size', fill_value=0)"
   ]
  },
  {
   "cell_type": "code",
   "execution_count": 215,
   "id": "839574b8",
   "metadata": {},
   "outputs": [],
   "source": [
    "a = df.pivot_table(index='violation',columns='stop_outcome', aggfunc='size', fill_value=0)\n",
    "dfi.export(a,\"headers_vilation_vs_stop.png\")"
   ]
  },
  {
   "cell_type": "markdown",
   "id": "f5dd92c8",
   "metadata": {},
   "source": [
    "### 9-driver_race  vs violation"
   ]
  },
  {
   "cell_type": "code",
   "execution_count": 227,
   "id": "6e3c239d",
   "metadata": {},
   "outputs": [
    {
     "data": {
      "text/html": [
       "<div>\n",
       "<style scoped>\n",
       "    .dataframe tbody tr th:only-of-type {\n",
       "        vertical-align: middle;\n",
       "    }\n",
       "\n",
       "    .dataframe tbody tr th {\n",
       "        vertical-align: top;\n",
       "    }\n",
       "\n",
       "    .dataframe thead th {\n",
       "        text-align: right;\n",
       "    }\n",
       "</style>\n",
       "<table border=\"1\" class=\"dataframe\">\n",
       "  <thead>\n",
       "    <tr style=\"text-align: right;\">\n",
       "      <th>violation</th>\n",
       "      <th>Equipment</th>\n",
       "      <th>Moving violation</th>\n",
       "      <th>Other</th>\n",
       "      <th>Registration/plates</th>\n",
       "      <th>Speeding</th>\n",
       "    </tr>\n",
       "    <tr>\n",
       "      <th>driver_race</th>\n",
       "      <th></th>\n",
       "      <th></th>\n",
       "      <th></th>\n",
       "      <th></th>\n",
       "      <th></th>\n",
       "    </tr>\n",
       "  </thead>\n",
       "  <tbody>\n",
       "    <tr>\n",
       "      <th>Asian</th>\n",
       "      <td>92</td>\n",
       "      <td>162</td>\n",
       "      <td>62</td>\n",
       "      <td>25</td>\n",
       "      <td>1034</td>\n",
       "    </tr>\n",
       "    <tr>\n",
       "      <th>Black</th>\n",
       "      <td>857</td>\n",
       "      <td>1530</td>\n",
       "      <td>654</td>\n",
       "      <td>428</td>\n",
       "      <td>3125</td>\n",
       "    </tr>\n",
       "    <tr>\n",
       "      <th>Hispanic</th>\n",
       "      <td>652</td>\n",
       "      <td>1013</td>\n",
       "      <td>382</td>\n",
       "      <td>358</td>\n",
       "      <td>1694</td>\n",
       "    </tr>\n",
       "    <tr>\n",
       "      <th>Other</th>\n",
       "      <td>7</td>\n",
       "      <td>33</td>\n",
       "      <td>19</td>\n",
       "      <td>1</td>\n",
       "      <td>89</td>\n",
       "    </tr>\n",
       "    <tr>\n",
       "      <th>White</th>\n",
       "      <td>2668</td>\n",
       "      <td>5647</td>\n",
       "      <td>1844</td>\n",
       "      <td>1008</td>\n",
       "      <td>26197</td>\n",
       "    </tr>\n",
       "  </tbody>\n",
       "</table>\n",
       "</div>"
      ],
      "text/plain": [
       "violation    Equipment  Moving violation  Other  Registration/plates  Speeding\n",
       "driver_race                                                                   \n",
       "Asian               92               162     62                   25      1034\n",
       "Black              857              1530    654                  428      3125\n",
       "Hispanic           652              1013    382                  358      1694\n",
       "Other                7                33     19                    1        89\n",
       "White             2668              5647   1844                 1008     26197"
      ]
     },
     "execution_count": 227,
     "metadata": {},
     "output_type": "execute_result"
    }
   ],
   "source": [
    "df.pivot_table(index='driver_race',columns='violation', aggfunc='size', fill_value=0)"
   ]
  },
  {
   "cell_type": "code",
   "execution_count": 228,
   "id": "223acc44",
   "metadata": {},
   "outputs": [],
   "source": [
    "a = df.pivot_table(index='driver_race',columns='violation', aggfunc='size', fill_value=0)\n",
    "dfi.export(a,\"driver_race_vs_violation.png\")"
   ]
  },
  {
   "cell_type": "markdown",
   "id": "ebe7bd34",
   "metadata": {},
   "source": [
    "### 10-Drug  vs violation"
   ]
  },
  {
   "cell_type": "code",
   "execution_count": 229,
   "id": "10c24de0",
   "metadata": {},
   "outputs": [],
   "source": [
    "# lets draw the relation between the drug and the speeding violation for instance"
   ]
  },
  {
   "cell_type": "code",
   "execution_count": 240,
   "id": "7f5c6882",
   "metadata": {},
   "outputs": [
    {
     "data": {
      "text/plain": [
       "drugs_related_stop\n",
       "False    31994\n",
       "True       145\n",
       "Name: Speeding, dtype: int64"
      ]
     },
     "execution_count": 240,
     "metadata": {},
     "output_type": "execute_result"
    }
   ],
   "source": [
    "a = df.pivot_table(index='drugs_related_stop',columns='violation', aggfunc='size', fill_value=0)['Speeding']\n",
    "a"
   ]
  },
  {
   "cell_type": "code",
   "execution_count": 242,
   "id": "7225e1dc",
   "metadata": {},
   "outputs": [
    {
     "data": {
      "text/plain": [
       "Text(27.125, 0.5, 'number of persons')"
      ]
     },
     "execution_count": 242,
     "metadata": {},
     "output_type": "execute_result"
    },
    {
     "data": {
      "image/png": "[encoded data removed]",
      "text/plain": [
       "<Figure size 504x360 with 1 Axes>"
      ]
     },
     "metadata": {
      "needs_background": "light"
     },
     "output_type": "display_data"
    }
   ],
   "source": [
    "fig, ax = plt.subplots()\n",
    "fig.canvas.draw()\n",
    "a.plot(kind=\"bar\", width=0.3, figsize=(7, 5), color = [\"r\",\"b\"])\n",
    "plt.title(\"Male vs Female drivers\")\n",
    "plt.ylabel(\"number of persons\", fontsize=14)"
   ]
  },
  {
   "cell_type": "code",
   "execution_count": 248,
   "id": "721f663a",
   "metadata": {},
   "outputs": [
    {
     "data": {
      "text/plain": [
       "0.45116525094123006"
      ]
     },
     "execution_count": 248,
     "metadata": {},
     "output_type": "execute_result"
    }
   ],
   "source": [
    "false_ratio = a[0]*100/(a[0]+a[1])\n",
    "100-false_ratio"
   ]
  }
 ],
 "metadata": {
  "kernelspec": {
   "display_name": "Python 3 (ipykernel)",
   "language": "python",
   "name": "python3"
  },
  "language_info": {
   "codemirror_mode": {
    "name": "ipython",
    "version": 3
   },
   "file_extension": ".py",
   "mimetype": "text/x-python",
   "name": "python",
   "nbconvert_exporter": "python",
   "pygments_lexer": "ipython3",
   "version": "3.9.5"
  }
 },
 "nbformat": 4,
 "nbformat_minor": 5
}
